{
 "cells": [
  {
   "cell_type": "code",
   "execution_count": 1,
   "id": "55756804-4308-4494-9a05-2844492cb0ff",
   "metadata": {},
   "outputs": [],
   "source": [
    "from typing import Tuple\n",
    "import json\n",
    "import time\n",
    "import sys\n",
    "import gc\n",
    "import os\n",
    "\n",
    "import torch\n",
    "\n",
    "from non_parallel_llama.model import ModelArgs, Transformer\n",
    "from non_parallel_llama.tokenizer import Tokenizer\n",
    "from non_parallel_llama import Llama"
   ]
  },
  {
   "cell_type": "code",
   "execution_count": 2,
   "id": "2bdc01fe-2d3c-423f-aa89-83d03ff12402",
   "metadata": {},
   "outputs": [
    {
     "data": {
      "text/plain": [
       "0"
      ]
     },
     "execution_count": 2,
     "metadata": {},
     "output_type": "execute_result"
    }
   ],
   "source": [
    "torch.cuda.empty_cache()\n",
    "gc.collect()"
   ]
  },
  {
   "cell_type": "code",
   "execution_count": 3,
   "id": "b63aa1c1-8a37-4f05-93ac-a1756a9478f5",
   "metadata": {},
   "outputs": [],
   "source": [
    "CKPT_PATH      = 'checkpoints/7B-chat'\n",
    "MODEL_PATH     = f'{CKPT_PATH}/llama-2-7b-chat'\n",
    "TOKENIZER_PATH = f'{CKPT_PATH}/tokenizer.model'"
   ]
  },
  {
   "cell_type": "code",
   "execution_count": 4,
   "id": "da75c47f-1f46-4f4b-b01d-77fcae488efe",
   "metadata": {},
   "outputs": [],
   "source": [
    "def build(ckpt_dir: str, tokenizer_path: str, local_rank: int, world_size: int) -> Llama:\n",
    "    \n",
    "    checkpoints = sorted([path for path in os.listdir(ckpt_dir)\n",
    "                          if '.pth' in path])\n",
    "    assert (\n",
    "        world_size == len(checkpoints)\n",
    "    ), f'Loading a checkpoint for MP = {len(checkpoints)} but world_size is {world_size}'\n",
    "    \n",
    "    torch.cuda.set_device(local_rank)\n",
    "    \n",
    "    ckpt_path  = f'{ckpt_dir}/{checkpoints[local_rank]}'\n",
    "    ckpt       = torch.load(ckpt_path, map_location = 'cpu')\n",
    "    params     = json.loads(open(f'{ckpt_dir}/params.json', 'r').read())\n",
    "    model_args = ModelArgs(max_seq_len = 1024, max_batch_size = 32, **params)\n",
    "    tokenizer  = Tokenizer(model_path = tokenizer_path)\n",
    "    \n",
    "    model_args.vocab_size = tokenizer.n_words\n",
    "    model                 = Transformer(model_args)\n",
    "    generator             = Llama(model, tokenizer)\n",
    "    \n",
    "    return generator\n",
    "\n",
    "\n",
    "def main(ckpt_dir: str, tokenizer_path: str, \n",
    "         temperature: float = 0.8, top_p:float = 0.95):\n",
    "    \n",
    "    generator = build(ckpt_dir, tokenizer_path, 0, 1)\n",
    "    prompt    = input(\"Enter prompt : \")\n",
    "    \n",
    "    while True:\n",
    "        if prompt == '<end>': break\n",
    "        \n",
    "        dialog = [[{\"role\"    : \"user\",\n",
    "                    \"content\" : prompt}]]\n",
    "        \n",
    "        print(f'Q. {prompt}')\n",
    "        \n",
    "        results = generator.chat_completion(\n",
    "                        dialog, max_gen_len = None, \n",
    "                        temperature = temperature, top_p = top_p\n",
    "                    )\n",
    "        \n",
    "        for result in results:\n",
    "            print(f'A. {result[\"generation\"][\"content\"]}')\n",
    "            print(\"=\"*30, '\\n')\n",
    "        prompts = input(\"Enter prompt : \")"
   ]
  },
  {
   "cell_type": "code",
   "execution_count": null,
   "id": "9750bbb9-ed91-49fe-afc3-b01ca5e469ee",
   "metadata": {},
   "outputs": [
    {
     "name": "stderr",
     "output_type": "stream",
     "text": [
      "/opt/conda/envs/text2room/lib/python3.8/site-packages/torch/cuda/__init__.py:497: UserWarning: Can't initialize NVML\n",
      "  warnings.warn(\"Can't initialize NVML\")\n"
     ]
    },
    {
     "name": "stdin",
     "output_type": "stream",
     "text": [
      "Enter prompt :  Do you know Pigeon?\n"
     ]
    },
    {
     "name": "stdout",
     "output_type": "stream",
     "text": [
      "Q. Do you know Pigeon?\n"
     ]
    }
   ],
   "source": [
    "main(MODEL_PATH, TOKENIZER_PATH)"
   ]
  },
  {
   "cell_type": "code",
   "execution_count": null,
   "id": "911f196b-3279-4ce5-87db-2d264ab7c38d",
   "metadata": {},
   "outputs": [],
   "source": []
  }
 ],
 "metadata": {
  "kernelspec": {
   "display_name": "text2room",
   "language": "python",
   "name": "text2room"
  },
  "language_info": {
   "codemirror_mode": {
    "name": "ipython",
    "version": 3
   },
   "file_extension": ".py",
   "mimetype": "text/x-python",
   "name": "python",
   "nbconvert_exporter": "python",
   "pygments_lexer": "ipython3",
   "version": "3.8.17"
  }
 },
 "nbformat": 4,
 "nbformat_minor": 5
}
